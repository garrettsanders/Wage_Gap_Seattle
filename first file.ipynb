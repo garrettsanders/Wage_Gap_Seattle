{
 "cells": [
  {
   "cell_type": "code",
   "execution_count": 1,
   "metadata": {},
   "outputs": [],
   "source": [
    "import csv\n",
    "import numpy as np\n",
    "import pandas as pd\n",
    "import os\n",
    "from subprocess import check_output"
   ]
  },
  {
   "cell_type": "code",
   "execution_count": 9,
   "metadata": {},
   "outputs": [],
   "source": [
    "infileAllJobClass = 'City_of_Seattle_Wages___Comparison_by_Gender_-_All_Job_Classifications-1.csv'\n",
    "infileAveHrWageDept = 'City_of_Seattle_Wages__Comparison_by_Gender_-_Average_Hourly_Wage_by_Department-1.csv'\n",
    "infileWageProgJobTitles = 'City_of_Seattle_Wages___Comparison_by_Gender__Wage_Progression_Job_Titles-1.csv'"
   ]
  },
  {
   "cell_type": "code",
   "execution_count": 6,
   "metadata": {},
   "outputs": [
    {
     "output_type": "execute_result",
     "data": {
      "text/plain": "          Jobtitle  Female Avg Hrly Rate  No. Female Empl  \\\n0       Accountant                 30.58             23.0   \n1  Accountant,Prin                 38.75             23.0   \n2    Accountant,Sr                 34.48             23.0   \n3         Act Exec                 43.10              4.0   \n4      Actg Tech I                 22.56              1.0   \n\n   Average of Female MONTHS LONGEVITY IN CURRENT CLASSIFICATION   \\\n0                                              88.96               \n1                                              59.96               \n2                                              60.61               \n3                                             146.00               \n4                                             156.00               \n\n   Male Avg Hrly Rate  No. Male Empl  \\\n0               30.28            7.0   \n1               37.64            7.0   \n2               33.89            6.0   \n3               42.02            7.0   \n4                 NaN            NaN   \n\n   Average of Male MONTHS LONGEVITY IN CURRENT CLASSIFICATION   \\\n0                                              85.71             \n1                                               7.00             \n2                                              43.67             \n3                                             106.29             \n4                                                NaN             \n\n   Total Avg Hrly Rate  Total No. Empl  \\\n0                30.51              30   \n1                38.49              30   \n2                34.36              29   \n3                42.42              11   \n4                22.56               1   \n\n   Total Average of MONTHS LONGEVITY IN CURRENT CLASSIFICATION   \\\n0                                              88.20              \n1                                              47.60              \n2                                              57.10              \n3                                             120.73              \n4                                             156.00              \n\n   Ratio of women's hourly rate to men's hourly rate - percentage  \\\n0                                             101.00                \n1                                             102.95                \n2                                             101.75                \n3                                             102.56                \n4                                                NaN                \n\n             Notes  \n0              NaN  \n1              NaN  \n2              NaN  \n3              NaN  \n4  no men in title  ",
      "text/html": "<div>\n<style scoped>\n    .dataframe tbody tr th:only-of-type {\n        vertical-align: middle;\n    }\n\n    .dataframe tbody tr th {\n        vertical-align: top;\n    }\n\n    .dataframe thead th {\n        text-align: right;\n    }\n</style>\n<table border=\"1\" class=\"dataframe\">\n  <thead>\n    <tr style=\"text-align: right;\">\n      <th></th>\n      <th>Jobtitle</th>\n      <th>Female Avg Hrly Rate</th>\n      <th>No. Female Empl</th>\n      <th>Average of Female MONTHS LONGEVITY IN CURRENT CLASSIFICATION</th>\n      <th>Male Avg Hrly Rate</th>\n      <th>No. Male Empl</th>\n      <th>Average of Male MONTHS LONGEVITY IN CURRENT CLASSIFICATION</th>\n      <th>Total Avg Hrly Rate</th>\n      <th>Total No. Empl</th>\n      <th>Total Average of MONTHS LONGEVITY IN CURRENT CLASSIFICATION</th>\n      <th>Ratio of women's hourly rate to men's hourly rate - percentage</th>\n      <th>Notes</th>\n    </tr>\n  </thead>\n  <tbody>\n    <tr>\n      <th>0</th>\n      <td>Accountant</td>\n      <td>30.58</td>\n      <td>23.0</td>\n      <td>88.96</td>\n      <td>30.28</td>\n      <td>7.0</td>\n      <td>85.71</td>\n      <td>30.51</td>\n      <td>30</td>\n      <td>88.20</td>\n      <td>101.00</td>\n      <td>NaN</td>\n    </tr>\n    <tr>\n      <th>1</th>\n      <td>Accountant,Prin</td>\n      <td>38.75</td>\n      <td>23.0</td>\n      <td>59.96</td>\n      <td>37.64</td>\n      <td>7.0</td>\n      <td>7.00</td>\n      <td>38.49</td>\n      <td>30</td>\n      <td>47.60</td>\n      <td>102.95</td>\n      <td>NaN</td>\n    </tr>\n    <tr>\n      <th>2</th>\n      <td>Accountant,Sr</td>\n      <td>34.48</td>\n      <td>23.0</td>\n      <td>60.61</td>\n      <td>33.89</td>\n      <td>6.0</td>\n      <td>43.67</td>\n      <td>34.36</td>\n      <td>29</td>\n      <td>57.10</td>\n      <td>101.75</td>\n      <td>NaN</td>\n    </tr>\n    <tr>\n      <th>3</th>\n      <td>Act Exec</td>\n      <td>43.10</td>\n      <td>4.0</td>\n      <td>146.00</td>\n      <td>42.02</td>\n      <td>7.0</td>\n      <td>106.29</td>\n      <td>42.42</td>\n      <td>11</td>\n      <td>120.73</td>\n      <td>102.56</td>\n      <td>NaN</td>\n    </tr>\n    <tr>\n      <th>4</th>\n      <td>Actg Tech I</td>\n      <td>22.56</td>\n      <td>1.0</td>\n      <td>156.00</td>\n      <td>NaN</td>\n      <td>NaN</td>\n      <td>NaN</td>\n      <td>22.56</td>\n      <td>1</td>\n      <td>156.00</td>\n      <td>NaN</td>\n      <td>no men in title</td>\n    </tr>\n  </tbody>\n</table>\n</div>"
     },
     "metadata": {},
     "execution_count": 6
    }
   ],
   "source": [
    "dfAllJobClass = pd.read_csv(infileAllJobClass)\n",
    "dfAllJobClass.head()"
   ]
  },
  {
   "cell_type": "code",
   "execution_count": 8,
   "metadata": {},
   "outputs": [
    {
     "output_type": "execute_result",
     "data": {
      "text/plain": "                  Department           Jobtitle  Female Avg Hrly Rate  \\\n0  Arts and Cultural Affairs         Accountant                   NaN   \n1  Arts and Cultural Affairs      Actg Tech III                 26.79   \n2  Arts and Cultural Affairs     Admin Spec III                 26.26   \n3  Arts and Cultural Affairs   Admin Staff Asst                 31.76   \n4  Arts and Cultural Affairs  Arts Conserv Tech                 27.78   \n\n   No. Female Empl  Male Avg Hrly Rate  No. Male Empl  Total Avg Hrly Rate  \\\n0              NaN               29.75            1.0                29.75   \n1              1.0                 NaN            NaN                26.79   \n2              1.0                 NaN            NaN                26.26   \n3              2.0                 NaN            NaN                31.76   \n4              1.0               27.78            1.0                27.78   \n\n   Total No. Empl  \\\n0               1   \n1               1   \n2               1   \n3               2   \n4               2   \n\n   Total Average of MONTHS LONGEVITY IN CURRENT CLASSIFICATION   \\\n0                                               39.0              \n1                                               56.0              \n2                                               37.0              \n3                                               99.0              \n4                                               65.0              \n\n   Ratio of women's hourly rate to men's hourly rate - percentage  \\\n0                                                NaN                \n1                                                NaN                \n2                                                NaN                \n3                                                NaN                \n4                                              100.0                \n\n               Notes  \n0  No women in title  \n1    No men in title  \n2    No men in title  \n3    No men in title  \n4                NaN  ",
      "text/html": "<div>\n<style scoped>\n    .dataframe tbody tr th:only-of-type {\n        vertical-align: middle;\n    }\n\n    .dataframe tbody tr th {\n        vertical-align: top;\n    }\n\n    .dataframe thead th {\n        text-align: right;\n    }\n</style>\n<table border=\"1\" class=\"dataframe\">\n  <thead>\n    <tr style=\"text-align: right;\">\n      <th></th>\n      <th>Department</th>\n      <th>Jobtitle</th>\n      <th>Female Avg Hrly Rate</th>\n      <th>No. Female Empl</th>\n      <th>Male Avg Hrly Rate</th>\n      <th>No. Male Empl</th>\n      <th>Total Avg Hrly Rate</th>\n      <th>Total No. Empl</th>\n      <th>Total Average of MONTHS LONGEVITY IN CURRENT CLASSIFICATION</th>\n      <th>Ratio of women's hourly rate to men's hourly rate - percentage</th>\n      <th>Notes</th>\n    </tr>\n  </thead>\n  <tbody>\n    <tr>\n      <th>0</th>\n      <td>Arts and Cultural Affairs</td>\n      <td>Accountant</td>\n      <td>NaN</td>\n      <td>NaN</td>\n      <td>29.75</td>\n      <td>1.0</td>\n      <td>29.75</td>\n      <td>1</td>\n      <td>39.0</td>\n      <td>NaN</td>\n      <td>No women in title</td>\n    </tr>\n    <tr>\n      <th>1</th>\n      <td>Arts and Cultural Affairs</td>\n      <td>Actg Tech III</td>\n      <td>26.79</td>\n      <td>1.0</td>\n      <td>NaN</td>\n      <td>NaN</td>\n      <td>26.79</td>\n      <td>1</td>\n      <td>56.0</td>\n      <td>NaN</td>\n      <td>No men in title</td>\n    </tr>\n    <tr>\n      <th>2</th>\n      <td>Arts and Cultural Affairs</td>\n      <td>Admin Spec III</td>\n      <td>26.26</td>\n      <td>1.0</td>\n      <td>NaN</td>\n      <td>NaN</td>\n      <td>26.26</td>\n      <td>1</td>\n      <td>37.0</td>\n      <td>NaN</td>\n      <td>No men in title</td>\n    </tr>\n    <tr>\n      <th>3</th>\n      <td>Arts and Cultural Affairs</td>\n      <td>Admin Staff Asst</td>\n      <td>31.76</td>\n      <td>2.0</td>\n      <td>NaN</td>\n      <td>NaN</td>\n      <td>31.76</td>\n      <td>2</td>\n      <td>99.0</td>\n      <td>NaN</td>\n      <td>No men in title</td>\n    </tr>\n    <tr>\n      <th>4</th>\n      <td>Arts and Cultural Affairs</td>\n      <td>Arts Conserv Tech</td>\n      <td>27.78</td>\n      <td>1.0</td>\n      <td>27.78</td>\n      <td>1.0</td>\n      <td>27.78</td>\n      <td>2</td>\n      <td>65.0</td>\n      <td>100.0</td>\n      <td>NaN</td>\n    </tr>\n  </tbody>\n</table>\n</div>"
     },
     "metadata": {},
     "execution_count": 8
    }
   ],
   "source": [
    "dfAveHrWageDept = pd.read_csv(infileAveHrWageDept)\n",
    "dfAveHrWageDept.head()"
   ]
  },
  {
   "cell_type": "code",
   "execution_count": 10,
   "metadata": {},
   "outputs": [
    {
     "output_type": "execute_result",
     "data": {
      "text/plain": "  Job Classification  Female Avg Hrly Rate  No. Female Empl  \\\n0         Accountant                 30.58             23.0   \n1    Accountant,Prin                 38.75             23.0   \n2      Accountant,Sr                 34.48             23.0   \n3           Act Exec                 43.10              4.0   \n4        Actg Tech I                 22.56              1.0   \n\n   Male Avg Hrly Rate  No. Male Empl  Total Avg Hrly Rate  Total No. Empl  \\\n0               30.28            7.0                30.51              30   \n1               37.64            7.0                38.49              30   \n2               33.89            6.0                34.36              29   \n3               42.02            7.0                42.42              11   \n4                 NaN            NaN                22.56               1   \n\n   Female to male % rate  Female to male % count            Notes  \n0                  101.0                   329.0              NaN  \n1                  103.0                   329.0              NaN  \n2                  102.0                   383.0              NaN  \n3                  103.0                    57.0              NaN  \n4                    NaN                     NaN  no men in title  ",
      "text/html": "<div>\n<style scoped>\n    .dataframe tbody tr th:only-of-type {\n        vertical-align: middle;\n    }\n\n    .dataframe tbody tr th {\n        vertical-align: top;\n    }\n\n    .dataframe thead th {\n        text-align: right;\n    }\n</style>\n<table border=\"1\" class=\"dataframe\">\n  <thead>\n    <tr style=\"text-align: right;\">\n      <th></th>\n      <th>Job Classification</th>\n      <th>Female Avg Hrly Rate</th>\n      <th>No. Female Empl</th>\n      <th>Male Avg Hrly Rate</th>\n      <th>No. Male Empl</th>\n      <th>Total Avg Hrly Rate</th>\n      <th>Total No. Empl</th>\n      <th>Female to male % rate</th>\n      <th>Female to male % count</th>\n      <th>Notes</th>\n    </tr>\n  </thead>\n  <tbody>\n    <tr>\n      <th>0</th>\n      <td>Accountant</td>\n      <td>30.58</td>\n      <td>23.0</td>\n      <td>30.28</td>\n      <td>7.0</td>\n      <td>30.51</td>\n      <td>30</td>\n      <td>101.0</td>\n      <td>329.0</td>\n      <td>NaN</td>\n    </tr>\n    <tr>\n      <th>1</th>\n      <td>Accountant,Prin</td>\n      <td>38.75</td>\n      <td>23.0</td>\n      <td>37.64</td>\n      <td>7.0</td>\n      <td>38.49</td>\n      <td>30</td>\n      <td>103.0</td>\n      <td>329.0</td>\n      <td>NaN</td>\n    </tr>\n    <tr>\n      <th>2</th>\n      <td>Accountant,Sr</td>\n      <td>34.48</td>\n      <td>23.0</td>\n      <td>33.89</td>\n      <td>6.0</td>\n      <td>34.36</td>\n      <td>29</td>\n      <td>102.0</td>\n      <td>383.0</td>\n      <td>NaN</td>\n    </tr>\n    <tr>\n      <th>3</th>\n      <td>Act Exec</td>\n      <td>43.10</td>\n      <td>4.0</td>\n      <td>42.02</td>\n      <td>7.0</td>\n      <td>42.42</td>\n      <td>11</td>\n      <td>103.0</td>\n      <td>57.0</td>\n      <td>NaN</td>\n    </tr>\n    <tr>\n      <th>4</th>\n      <td>Actg Tech I</td>\n      <td>22.56</td>\n      <td>1.0</td>\n      <td>NaN</td>\n      <td>NaN</td>\n      <td>22.56</td>\n      <td>1</td>\n      <td>NaN</td>\n      <td>NaN</td>\n      <td>no men in title</td>\n    </tr>\n  </tbody>\n</table>\n</div>"
     },
     "metadata": {},
     "execution_count": 10
    }
   ],
   "source": [
    "dfWageProgJobTitles = pd.read_csv(infileWageProgJobTitles)\n",
    "dfWageProgJobTitles.head()"
   ]
  },
  {
   "cell_type": "code",
   "execution_count": null,
   "metadata": {},
   "outputs": [],
   "source": [
    "#What is the male to female ratio of each deptartment? (choose 2-4 job titles) - pie charts\n"
   ]
  },
  {
   "cell_type": "code",
   "execution_count": null,
   "metadata": {},
   "outputs": [],
   "source": [
    "#What is the female to male % average hourlt rate by department? (variance in wage) - scatterplot"
   ]
  }
 ],
 "metadata": {
  "kernelspec": {
   "display_name": "Python 3",
   "language": "python",
   "name": "python3"
  },
  "language_info": {
   "codemirror_mode": {
    "name": "ipython",
    "version": 3
   },
   "file_extension": ".py",
   "mimetype": "text/x-python",
   "name": "python",
   "nbconvert_exporter": "python",
   "pygments_lexer": "ipython3",
   "version": "3.7.4-final"
  }
 },
 "nbformat": 4,
 "nbformat_minor": 2
}
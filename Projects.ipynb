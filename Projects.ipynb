{
 "cells": [
  {
   "cell_type": "code",
   "execution_count": 160,
   "metadata": {},
   "outputs": [],
   "source": [
    "import csv\n",
    "import numpy as np\n",
    "import pandas as pd\n",
    "import os\n",
    "import matplotlib.pyplot as plt\n",
    "from subprocess import check_output\n",
    "csv_file = \"City_of_Seattle_Wages_2.csv\"\n"
   ]
  },
  {
   "cell_type": "code",
   "execution_count": 161,
   "metadata": {},
   "outputs": [
    {
     "data": {
      "text/html": [
       "<div>\n",
       "<style scoped>\n",
       "    .dataframe tbody tr th:only-of-type {\n",
       "        vertical-align: middle;\n",
       "    }\n",
       "\n",
       "    .dataframe tbody tr th {\n",
       "        vertical-align: top;\n",
       "    }\n",
       "\n",
       "    .dataframe thead th {\n",
       "        text-align: right;\n",
       "    }\n",
       "</style>\n",
       "<table border=\"1\" class=\"dataframe\">\n",
       "  <thead>\n",
       "    <tr style=\"text-align: right;\">\n",
       "      <th></th>\n",
       "      <th>Department</th>\n",
       "      <th>Jobtitle</th>\n",
       "      <th>Female Avg Hrly Rate</th>\n",
       "      <th>No. Female Empl</th>\n",
       "      <th>Male Avg Hrly Rate</th>\n",
       "      <th>No. Male Empl</th>\n",
       "      <th>Total Avg Hrly Rate</th>\n",
       "      <th>Total No. Empl</th>\n",
       "      <th>Total Average of MONTHS LONGEVITY IN CURRENT CLASSIFICATION</th>\n",
       "      <th>Ratio of women's hourly rate to men's hourly rate - percentage</th>\n",
       "      <th>Notes</th>\n",
       "    </tr>\n",
       "  </thead>\n",
       "  <tbody>\n",
       "    <tr>\n",
       "      <th>0</th>\n",
       "      <td>Arts and Cultural Affairs</td>\n",
       "      <td>Accountant</td>\n",
       "      <td>NaN</td>\n",
       "      <td>NaN</td>\n",
       "      <td>29.75</td>\n",
       "      <td>1.0</td>\n",
       "      <td>29.75</td>\n",
       "      <td>1</td>\n",
       "      <td>39.0</td>\n",
       "      <td>NaN</td>\n",
       "      <td>No women in title</td>\n",
       "    </tr>\n",
       "    <tr>\n",
       "      <th>1</th>\n",
       "      <td>Arts and Cultural Affairs</td>\n",
       "      <td>Actg Tech III</td>\n",
       "      <td>26.79</td>\n",
       "      <td>1.0</td>\n",
       "      <td>NaN</td>\n",
       "      <td>NaN</td>\n",
       "      <td>26.79</td>\n",
       "      <td>1</td>\n",
       "      <td>56.0</td>\n",
       "      <td>NaN</td>\n",
       "      <td>No men in title</td>\n",
       "    </tr>\n",
       "    <tr>\n",
       "      <th>2</th>\n",
       "      <td>Arts and Cultural Affairs</td>\n",
       "      <td>Admin Spec III</td>\n",
       "      <td>26.26</td>\n",
       "      <td>1.0</td>\n",
       "      <td>NaN</td>\n",
       "      <td>NaN</td>\n",
       "      <td>26.26</td>\n",
       "      <td>1</td>\n",
       "      <td>37.0</td>\n",
       "      <td>NaN</td>\n",
       "      <td>No men in title</td>\n",
       "    </tr>\n",
       "    <tr>\n",
       "      <th>3</th>\n",
       "      <td>Arts and Cultural Affairs</td>\n",
       "      <td>Admin Staff Asst</td>\n",
       "      <td>31.76</td>\n",
       "      <td>2.0</td>\n",
       "      <td>NaN</td>\n",
       "      <td>NaN</td>\n",
       "      <td>31.76</td>\n",
       "      <td>2</td>\n",
       "      <td>99.0</td>\n",
       "      <td>NaN</td>\n",
       "      <td>No men in title</td>\n",
       "    </tr>\n",
       "    <tr>\n",
       "      <th>4</th>\n",
       "      <td>Arts and Cultural Affairs</td>\n",
       "      <td>Arts Conserv Tech</td>\n",
       "      <td>27.78</td>\n",
       "      <td>1.0</td>\n",
       "      <td>27.78</td>\n",
       "      <td>1.0</td>\n",
       "      <td>27.78</td>\n",
       "      <td>2</td>\n",
       "      <td>65.0</td>\n",
       "      <td>100.0</td>\n",
       "      <td>NaN</td>\n",
       "    </tr>\n",
       "  </tbody>\n",
       "</table>\n",
       "</div>"
      ],
      "text/plain": [
       "                  Department           Jobtitle  Female Avg Hrly Rate  \\\n",
       "0  Arts and Cultural Affairs         Accountant                   NaN   \n",
       "1  Arts and Cultural Affairs      Actg Tech III                 26.79   \n",
       "2  Arts and Cultural Affairs     Admin Spec III                 26.26   \n",
       "3  Arts and Cultural Affairs   Admin Staff Asst                 31.76   \n",
       "4  Arts and Cultural Affairs  Arts Conserv Tech                 27.78   \n",
       "\n",
       "   No. Female Empl  Male Avg Hrly Rate  No. Male Empl  Total Avg Hrly Rate  \\\n",
       "0              NaN               29.75            1.0                29.75   \n",
       "1              1.0                 NaN            NaN                26.79   \n",
       "2              1.0                 NaN            NaN                26.26   \n",
       "3              2.0                 NaN            NaN                31.76   \n",
       "4              1.0               27.78            1.0                27.78   \n",
       "\n",
       "   Total No. Empl  \\\n",
       "0               1   \n",
       "1               1   \n",
       "2               1   \n",
       "3               2   \n",
       "4               2   \n",
       "\n",
       "   Total Average of MONTHS LONGEVITY IN CURRENT CLASSIFICATION   \\\n",
       "0                                               39.0              \n",
       "1                                               56.0              \n",
       "2                                               37.0              \n",
       "3                                               99.0              \n",
       "4                                               65.0              \n",
       "\n",
       "   Ratio of women's hourly rate to men's hourly rate - percentage  \\\n",
       "0                                                NaN                \n",
       "1                                                NaN                \n",
       "2                                                NaN                \n",
       "3                                                NaN                \n",
       "4                                              100.0                \n",
       "\n",
       "               Notes  \n",
       "0  No women in title  \n",
       "1    No men in title  \n",
       "2    No men in title  \n",
       "3    No men in title  \n",
       "4                NaN  "
      ]
     },
     "execution_count": 161,
     "metadata": {},
     "output_type": "execute_result"
    }
   ],
   "source": [
    "seattle_df = pd.read_csv(csv_file)\n",
    "seattle_df.head()"
   ]
  },
  {
   "cell_type": "code",
   "execution_count": 162,
   "metadata": {},
   "outputs": [
    {
     "data": {
      "text/html": [
       "<div>\n",
       "<style scoped>\n",
       "    .dataframe tbody tr th:only-of-type {\n",
       "        vertical-align: middle;\n",
       "    }\n",
       "\n",
       "    .dataframe tbody tr th {\n",
       "        vertical-align: top;\n",
       "    }\n",
       "\n",
       "    .dataframe thead th {\n",
       "        text-align: right;\n",
       "    }\n",
       "</style>\n",
       "<table border=\"1\" class=\"dataframe\">\n",
       "  <thead>\n",
       "    <tr style=\"text-align: right;\">\n",
       "      <th></th>\n",
       "      <th>No. Female Empl</th>\n",
       "      <th>No. Male Empl</th>\n",
       "    </tr>\n",
       "    <tr>\n",
       "      <th>Department</th>\n",
       "      <th></th>\n",
       "      <th></th>\n",
       "    </tr>\n",
       "  </thead>\n",
       "  <tbody>\n",
       "    <tr>\n",
       "      <th>Arts and Cultural Affairs</th>\n",
       "      <td>13</td>\n",
       "      <td>8</td>\n",
       "    </tr>\n",
       "    <tr>\n",
       "      <th>City Auditor</th>\n",
       "      <td>2</td>\n",
       "      <td>2</td>\n",
       "    </tr>\n",
       "    <tr>\n",
       "      <th>City Budget Office</th>\n",
       "      <td>6</td>\n",
       "      <td>3</td>\n",
       "    </tr>\n",
       "    <tr>\n",
       "      <th>City Employees Retirement Syst</th>\n",
       "      <td>8</td>\n",
       "      <td>4</td>\n",
       "    </tr>\n",
       "    <tr>\n",
       "      <th>City Light</th>\n",
       "      <td>169</td>\n",
       "      <td>210</td>\n",
       "    </tr>\n",
       "    <tr>\n",
       "      <th>Civil Service Commissions</th>\n",
       "      <td>3</td>\n",
       "      <td>1</td>\n",
       "    </tr>\n",
       "    <tr>\n",
       "      <th>Department of Planning &amp; Dev</th>\n",
       "      <td>57</td>\n",
       "      <td>58</td>\n",
       "    </tr>\n",
       "    <tr>\n",
       "      <th>Dept of Finance &amp; Admn Svc</th>\n",
       "      <td>88</td>\n",
       "      <td>85</td>\n",
       "    </tr>\n",
       "    <tr>\n",
       "      <th>Ethics And Elections</th>\n",
       "      <td>1</td>\n",
       "      <td>4</td>\n",
       "    </tr>\n",
       "    <tr>\n",
       "      <th>Fire Department</th>\n",
       "      <td>38</td>\n",
       "      <td>65</td>\n",
       "    </tr>\n",
       "    <tr>\n",
       "      <th>Hearing Examiner</th>\n",
       "      <td>5</td>\n",
       "      <td>0</td>\n",
       "    </tr>\n",
       "    <tr>\n",
       "      <th>Housing</th>\n",
       "      <td>14</td>\n",
       "      <td>11</td>\n",
       "    </tr>\n",
       "    <tr>\n",
       "      <th>Human Services</th>\n",
       "      <td>51</td>\n",
       "      <td>32</td>\n",
       "    </tr>\n",
       "    <tr>\n",
       "      <th>Immigrant &amp; Refugee Affairs</th>\n",
       "      <td>1</td>\n",
       "      <td>2</td>\n",
       "    </tr>\n",
       "    <tr>\n",
       "      <th>Information Technology Dept</th>\n",
       "      <td>33</td>\n",
       "      <td>21</td>\n",
       "    </tr>\n",
       "    <tr>\n",
       "      <th>Intergovernmental Relations</th>\n",
       "      <td>2</td>\n",
       "      <td>4</td>\n",
       "    </tr>\n",
       "    <tr>\n",
       "      <th>Law Department</th>\n",
       "      <td>18</td>\n",
       "      <td>10</td>\n",
       "    </tr>\n",
       "    <tr>\n",
       "      <th>Legislative-City Council</th>\n",
       "      <td>15</td>\n",
       "      <td>7</td>\n",
       "    </tr>\n",
       "    <tr>\n",
       "      <th>Mayor's Office</th>\n",
       "      <td>6</td>\n",
       "      <td>7</td>\n",
       "    </tr>\n",
       "    <tr>\n",
       "      <th>Municipal Court</th>\n",
       "      <td>37</td>\n",
       "      <td>27</td>\n",
       "    </tr>\n",
       "    <tr>\n",
       "      <th>Neighborhoods Department</th>\n",
       "      <td>26</td>\n",
       "      <td>10</td>\n",
       "    </tr>\n",
       "    <tr>\n",
       "      <th>Office for Civil Rights</th>\n",
       "      <td>8</td>\n",
       "      <td>8</td>\n",
       "    </tr>\n",
       "    <tr>\n",
       "      <th>Office of Economic Development</th>\n",
       "      <td>10</td>\n",
       "      <td>10</td>\n",
       "    </tr>\n",
       "    <tr>\n",
       "      <th>Office of Sustainability &amp; Env</th>\n",
       "      <td>7</td>\n",
       "      <td>3</td>\n",
       "    </tr>\n",
       "    <tr>\n",
       "      <th>Parks Department</th>\n",
       "      <td>97</td>\n",
       "      <td>131</td>\n",
       "    </tr>\n",
       "    <tr>\n",
       "      <th>Personnel Department</th>\n",
       "      <td>35</td>\n",
       "      <td>10</td>\n",
       "    </tr>\n",
       "    <tr>\n",
       "      <th>Police Department</th>\n",
       "      <td>82</td>\n",
       "      <td>82</td>\n",
       "    </tr>\n",
       "    <tr>\n",
       "      <th>Police Pension System</th>\n",
       "      <td>1</td>\n",
       "      <td>1</td>\n",
       "    </tr>\n",
       "    <tr>\n",
       "      <th>Seattle Center</th>\n",
       "      <td>52</td>\n",
       "      <td>52</td>\n",
       "    </tr>\n",
       "    <tr>\n",
       "      <th>Seattle Dept of Transportation</th>\n",
       "      <td>85</td>\n",
       "      <td>111</td>\n",
       "    </tr>\n",
       "    <tr>\n",
       "      <th>Seattle Public Utilities</th>\n",
       "      <td>141</td>\n",
       "      <td>168</td>\n",
       "    </tr>\n",
       "  </tbody>\n",
       "</table>\n",
       "</div>"
      ],
      "text/plain": [
       "                                No. Female Empl  No. Male Empl\n",
       "Department                                                    \n",
       "Arts and Cultural Affairs                    13              8\n",
       "City Auditor                                  2              2\n",
       "City Budget Office                            6              3\n",
       "City Employees Retirement Syst                8              4\n",
       "City Light                                  169            210\n",
       "Civil Service Commissions                     3              1\n",
       "Department of Planning & Dev                 57             58\n",
       "Dept of Finance & Admn Svc                   88             85\n",
       "Ethics And Elections                          1              4\n",
       "Fire Department                              38             65\n",
       "Hearing Examiner                              5              0\n",
       "Housing                                      14             11\n",
       "Human Services                               51             32\n",
       "Immigrant & Refugee Affairs                   1              2\n",
       "Information Technology Dept                  33             21\n",
       "Intergovernmental Relations                   2              4\n",
       "Law Department                               18             10\n",
       "Legislative-City Council                     15              7\n",
       "Mayor's Office                                6              7\n",
       "Municipal Court                              37             27\n",
       "Neighborhoods Department                     26             10\n",
       "Office for Civil Rights                       8              8\n",
       "Office of Economic Development               10             10\n",
       "Office of Sustainability & Env                7              3\n",
       "Parks Department                             97            131\n",
       "Personnel Department                         35             10\n",
       "Police Department                            82             82\n",
       "Police Pension System                         1              1\n",
       "Seattle Center                               52             52\n",
       "Seattle Dept of Transportation               85            111\n",
       "Seattle Public Utilities                    141            168"
      ]
     },
     "execution_count": 162,
     "metadata": {},
     "output_type": "execute_result"
    }
   ],
   "source": [
    "seattle_df.groupby([\n",
    "    'Department'\n",
    "]).agg({\n",
    "    'No. Female Empl': \"count\",  # get the count of females\n",
    "     'No. Male Empl': \"count\",  # get the count of males\n",
    "})"
   ]
  },
  {
   "cell_type": "code",
   "execution_count": 163,
   "metadata": {},
   "outputs": [],
   "source": [
    "park_df = seattle_df.loc[df['Department'] == 'Parks Department']"
   ]
  },
  {
   "cell_type": "code",
   "execution_count": 164,
   "metadata": {},
   "outputs": [
    {
     "name": "stdout",
     "output_type": "stream",
     "text": [
      "Department\n",
      "Parks Department    97\n",
      "Name: No. Female Empl, dtype: int64\n"
     ]
    }
   ],
   "source": [
    "number_female = park_df.groupby('Department')['No. Female Empl'].count()\n",
    "print(number_female)"
   ]
  },
  {
   "cell_type": "code",
   "execution_count": 165,
   "metadata": {},
   "outputs": [
    {
     "name": "stdout",
     "output_type": "stream",
     "text": [
      "Department\n",
      "Parks Department    131\n",
      "Name: No. Male Empl, dtype: int64\n"
     ]
    }
   ],
   "source": [
    "number_male = park_df.groupby('Department')['No. Male Empl'].count()\n",
    "genders = ['Male', 'Female']\n",
    "emplys = [131, 97]\n",
    "print(number_male)"
   ]
  },
  {
   "cell_type": "code",
   "execution_count": 166,
   "metadata": {},
   "outputs": [
    {
     "data": {
      "image/png": "[encoded data removed]",
      "text/plain": [
       "<Figure size 432x288 with 1 Axes>"
      ]
     },
     "metadata": {
      "needs_background": "light"
     },
     "output_type": "display_data"
    }
   ],
   "source": [
    "x_axis = np.arange(0, len(genders))\n",
    "bars = [0, 1]\n",
    "\n",
    "plt.title(\"Parks Department Men to Women Ratio\")\n",
    "plt.xlabel(\"Genders\")\n",
    "plt.ylabel(\"Number of Employees\")\n",
    "\n",
    "plt.xlim(-0.75, len(genders)-.25)\n",
    "plt.ylim(0, max(emplys)+ 30)\n",
    "\n",
    "plt.bar(x_axis, emplys, facecolor=\"green\", alpha=0.75, align=\"center\")\n",
    "plt.xticks(bars, genders)\n",
    "plt.show()"
   ]
  },
  {
   "cell_type": "code",
   "execution_count": 167,
   "metadata": {},
   "outputs": [],
   "source": [
    "police_df = seattle_df.loc[df['Department'] == 'Police Department']"
   ]
  },
  {
   "cell_type": "code",
   "execution_count": 168,
   "metadata": {},
   "outputs": [
    {
     "name": "stdout",
     "output_type": "stream",
     "text": [
      "Department\n",
      "Police Department    82\n",
      "Name: No. Female Empl, dtype: int64\n"
     ]
    }
   ],
   "source": [
    "number_female = police_df.groupby('Department')['No. Female Empl'].count()\n",
    "print(number_female)"
   ]
  },
  {
   "cell_type": "code",
   "execution_count": 169,
   "metadata": {},
   "outputs": [
    {
     "name": "stdout",
     "output_type": "stream",
     "text": [
      "Department\n",
      "Police Department    82\n",
      "Name: No. Male Empl, dtype: int64\n"
     ]
    }
   ],
   "source": [
    "number_male = police_df.groupby('Department')['No. Male Empl'].count()\n",
    "print(number_male)"
   ]
  },
  {
   "cell_type": "code",
   "execution_count": 170,
   "metadata": {},
   "outputs": [
    {
     "data": {
      "image/png": "[encoded data removed]",
      "text/plain": [
       "<Figure size 432x288 with 1 Axes>"
      ]
     },
     "metadata": {
      "needs_background": "light"
     },
     "output_type": "display_data"
    }
   ],
   "source": [
    "x_axis = np.arange(0, len(genders))\n",
    "bars = [0, 1]\n",
    "genders = ['Male', 'Female']\n",
    "emplys = [82, 82]\n",
    "plt.title(\"Police Department Men to Women Ratio\")\n",
    "plt.xlabel(\"Genders\")\n",
    "plt.ylabel(\"Number of Employees\")\n",
    "\n",
    "plt.xlim(-0.75, len(genders)-.25)\n",
    "plt.ylim(0, max(emplys)+ 30)\n",
    "\n",
    "plt.bar(x_axis, emplys, facecolor=\"red\", alpha=0.75, align=\"center\")\n",
    "plt.xticks(bars, genders)\n",
    "plt.show()"
   ]
  },
  {
   "cell_type": "code",
   "execution_count": 171,
   "metadata": {},
   "outputs": [],
   "source": [
    "fire_df = seattle_df.loc[df['Department'] == 'Fire Department']"
   ]
  },
  {
   "cell_type": "code",
   "execution_count": 172,
   "metadata": {},
   "outputs": [
    {
     "name": "stdout",
     "output_type": "stream",
     "text": [
      "Department\n",
      "Fire Department    38\n",
      "Name: No. Female Empl, dtype: int64\n"
     ]
    }
   ],
   "source": [
    "number_female = fire_df.groupby('Department')['No. Female Empl'].count()\n",
    "print(number_female)"
   ]
  },
  {
   "cell_type": "code",
   "execution_count": 173,
   "metadata": {},
   "outputs": [
    {
     "name": "stdout",
     "output_type": "stream",
     "text": [
      "Department\n",
      "Fire Department    65\n",
      "Name: No. Male Empl, dtype: int64\n"
     ]
    }
   ],
   "source": [
    "number_male = fire_df.groupby('Department')['No. Male Empl'].count()\n",
    "print(number_male)"
   ]
  },
  {
   "cell_type": "code",
   "execution_count": 174,
   "metadata": {},
   "outputs": [
    {
     "data": {
      "image/png": "[encoded data removed]",
      "text/plain": [
       "<Figure size 432x288 with 1 Axes>"
      ]
     },
     "metadata": {
      "needs_background": "light"
     },
     "output_type": "display_data"
    }
   ],
   "source": [
    "x_axis = np.arange(0, len(genders))\n",
    "bars = [0, 1]\n",
    "genders = ['Male', 'Female']\n",
    "emplys = [65, 38]\n",
    "plt.title(\"Fire Department Men to Women Ratio\")\n",
    "plt.xlabel(\"Genders\")\n",
    "plt.ylabel(\"Number of Employees\")\n",
    "\n",
    "plt.xlim(-0.75, len(genders)-.25)\n",
    "plt.ylim(0, max(emplys)+ 30)\n",
    "\n",
    "plt.bar(x_axis, emplys, facecolor=\"red\", alpha=0.75, align=\"center\")\n",
    "plt.xticks(bars, genders)\n",
    "plt.show()"
   ]
  },
  {
   "cell_type": "code",
   "execution_count": 175,
   "metadata": {},
   "outputs": [],
   "source": [
    "human_df = seattle_df.loc[df['Department'] == 'Human Services']"
   ]
  },
  {
   "cell_type": "code",
   "execution_count": 176,
   "metadata": {},
   "outputs": [
    {
     "name": "stdout",
     "output_type": "stream",
     "text": [
      "Department\n",
      "Human Services    51\n",
      "Name: No. Female Empl, dtype: int64\n"
     ]
    }
   ],
   "source": [
    "number_female = human_df.groupby('Department')['No. Female Empl'].count()\n",
    "print(number_female)"
   ]
  },
  {
   "cell_type": "code",
   "execution_count": 177,
   "metadata": {},
   "outputs": [
    {
     "name": "stdout",
     "output_type": "stream",
     "text": [
      "Department\n",
      "Human Services    32\n",
      "Name: No. Male Empl, dtype: int64\n"
     ]
    }
   ],
   "source": [
    "number_male = human_df.groupby('Department')['No. Male Empl'].count()\n",
    "print(number_male)"
   ]
  },
  {
   "cell_type": "code",
   "execution_count": 178,
   "metadata": {},
   "outputs": [
    {
     "data": {
      "image/png": "[encoded data removed]",
      "text/plain": [
       "<Figure size 432x288 with 1 Axes>"
      ]
     },
     "metadata": {
      "needs_background": "light"
     },
     "output_type": "display_data"
    }
   ],
   "source": [
    "x_axis = np.arange(0, len(genders))\n",
    "bars = [0, 1]\n",
    "genders = ['Male', 'Female']\n",
    "emplys = [32, 51]\n",
    "plt.title(\"Human Services Men to Women Ratio\")\n",
    "plt.xlabel(\"Genders\")\n",
    "plt.ylabel(\"Number of Employees\")\n",
    "\n",
    "plt.xlim(-0.75, len(genders)-.25)\n",
    "plt.ylim(0, max(emplys)+ 30)\n",
    "\n",
    "plt.bar(x_axis, emplys, facecolor=\"red\", alpha=0.75, align=\"center\")\n",
    "plt.xticks(bars, genders)\n",
    "plt.show()"
   ]
  },
  {
   "cell_type": "code",
   "execution_count": 179,
   "metadata": {},
   "outputs": [],
   "source": [
    "muni_df = seattle_df.loc[df['Department'] == 'Municipal Court']"
   ]
  },
  {
   "cell_type": "code",
   "execution_count": 180,
   "metadata": {},
   "outputs": [
    {
     "name": "stdout",
     "output_type": "stream",
     "text": [
      "Department\n",
      "Municipal Court    37\n",
      "Name: No. Female Empl, dtype: int64\n"
     ]
    }
   ],
   "source": [
    "number_female = muni_df.groupby('Department')['No. Female Empl'].count()\n",
    "print(number_female)"
   ]
  },
  {
   "cell_type": "code",
   "execution_count": 181,
   "metadata": {},
   "outputs": [
    {
     "name": "stdout",
     "output_type": "stream",
     "text": [
      "Department\n",
      "Municipal Court    27\n",
      "Name: No. Male Empl, dtype: int64\n"
     ]
    }
   ],
   "source": [
    "number_male = muni_df.groupby('Department')['No. Male Empl'].count()\n",
    "print(number_male)"
   ]
  },
  {
   "cell_type": "code",
   "execution_count": 182,
   "metadata": {},
   "outputs": [
    {
     "data": {
      "image/png": "[encoded data removed]",
      "text/plain": [
       "<Figure size 432x288 with 1 Axes>"
      ]
     },
     "metadata": {
      "needs_background": "light"
     },
     "output_type": "display_data"
    }
   ],
   "source": [
    "x_axis = np.arange(0, len(genders))\n",
    "bars = [0, 1]\n",
    "genders = ['Male', 'Female']\n",
    "emplys = [27, 37]\n",
    "plt.title(\"Municapal Court Men to Women Ratio\")\n",
    "plt.xlabel(\"Genders\")\n",
    "plt.ylabel(\"Number of Employees\")\n",
    "\n",
    "plt.xlim(-0.75, len(genders)-.25)\n",
    "plt.ylim(0, max(emplys)+ 30)\n",
    "\n",
    "plt.bar(x_axis, emplys, facecolor=\"blue\", alpha=0.75, align=\"center\")\n",
    "plt.xticks(bars, genders)\n",
    "plt.show()"
   ]
  },
  {
   "cell_type": "code",
   "execution_count": 183,
   "metadata": {},
   "outputs": [],
   "source": [
    "city_df = seattle_df.loc[df['Department'] == 'City Light']"
   ]
  },
  {
   "cell_type": "code",
   "execution_count": 184,
   "metadata": {},
   "outputs": [
    {
     "name": "stdout",
     "output_type": "stream",
     "text": [
      "Department\n",
      "City Light    169\n",
      "Name: No. Female Empl, dtype: int64\n"
     ]
    }
   ],
   "source": [
    "number_female = city_df.groupby('Department')['No. Female Empl'].count()\n",
    "print(number_female)"
   ]
  },
  {
   "cell_type": "code",
   "execution_count": 185,
   "metadata": {},
   "outputs": [
    {
     "name": "stdout",
     "output_type": "stream",
     "text": [
      "Department\n",
      "City Light    210\n",
      "Name: No. Male Empl, dtype: int64\n"
     ]
    }
   ],
   "source": [
    "number_male = city_df.groupby('Department')['No. Male Empl'].count()\n",
    "print(number_male)"
   ]
  },
  {
   "cell_type": "code",
   "execution_count": 186,
   "metadata": {},
   "outputs": [
    {
     "data": {
      "image/png": "[encoded data removed]",
      "text/plain": [
       "<Figure size 432x288 with 1 Axes>"
      ]
     },
     "metadata": {
      "needs_background": "light"
     },
     "output_type": "display_data"
    }
   ],
   "source": [
    "x_axis = np.arange(0, len(genders))\n",
    "bars = [0, 1]\n",
    "genders = ['Male', 'Female']\n",
    "emplys = [210, 169]\n",
    "plt.title(\"City Light Men to Women Ratio\")\n",
    "plt.xlabel(\"Genders\")\n",
    "plt.ylabel(\"Number of Employees\")\n",
    "\n",
    "plt.xlim(-0.75, len(genders)-.25)\n",
    "plt.ylim(0, max(emplys)+ 30)\n",
    "\n",
    "plt.bar(x_axis, emplys, facecolor=\"blue\", alpha=0.75, align=\"center\")\n",
    "plt.xticks(bars, genders)\n",
    "plt.show()"
   ]
  },
  {
   "cell_type": "code",
   "execution_count": 187,
   "metadata": {},
   "outputs": [],
   "source": [
    "plan_df = seattle_df.loc[df['Department'] == 'Department of Planning & Dev']"
   ]
  },
  {
   "cell_type": "code",
   "execution_count": 188,
   "metadata": {},
   "outputs": [
    {
     "name": "stdout",
     "output_type": "stream",
     "text": [
      "Department\n",
      "Department of Planning & Dev    57\n",
      "Name: No. Female Empl, dtype: int64\n"
     ]
    }
   ],
   "source": [
    "number_female = plan_df.groupby('Department')['No. Female Empl'].count()\n",
    "print(number_female)"
   ]
  },
  {
   "cell_type": "code",
   "execution_count": 189,
   "metadata": {},
   "outputs": [
    {
     "name": "stdout",
     "output_type": "stream",
     "text": [
      "Department\n",
      "Department of Planning & Dev    58\n",
      "Name: No. Male Empl, dtype: int64\n"
     ]
    }
   ],
   "source": [
    "number_male = plan_df.groupby('Department')['No. Male Empl'].count()\n",
    "print(number_male)"
   ]
  },
  {
   "cell_type": "code",
   "execution_count": 190,
   "metadata": {},
   "outputs": [
    {
     "data": {
      "image/png": "[encoded data removed]",
      "text/plain": [
       "<Figure size 432x288 with 1 Axes>"
      ]
     },
     "metadata": {
      "needs_background": "light"
     },
     "output_type": "display_data"
    }
   ],
   "source": [
    "x_axis = np.arange(0, len(genders))\n",
    "bars = [0, 1]\n",
    "genders = ['Male', 'Female']\n",
    "emplys = [58, 57]\n",
    "plt.title(\"Department of Planning & Dev Men to Women Ratio\")\n",
    "plt.xlabel(\"Genders\")\n",
    "plt.ylabel(\"Number of Employees\")\n",
    "\n",
    "plt.xlim(-0.75, len(genders)-.25)\n",
    "plt.ylim(0, max(emplys)+ 30)\n",
    "\n",
    "plt.bar(x_axis, emplys, facecolor=\"blue\", alpha=0.75, align=\"center\")\n",
    "plt.xticks(bars, genders)\n",
    "plt.show()"
   ]
  }
 ],
 "metadata": {
  "kernelspec": {
   "display_name": "Python 3",
   "language": "python",
   "name": "python3"
  },
  "language_info": {
   "codemirror_mode": {
    "name": "ipython",
    "version": 2
   },
   "file_extension": ".py",
   "mimetype": "text/x-python",
   "name": "python",
   "nbconvert_exporter": "python",
   "pygments_lexer": "ipython2",
   "version": "2.7.17"
  }
 },
 "nbformat": 4,
 "nbformat_minor": 2
}

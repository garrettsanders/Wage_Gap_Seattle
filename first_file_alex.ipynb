{
 "cells": [
  {
   "cell_type": "code",
   "execution_count": 1,
   "metadata": {},
   "outputs": [],
   "source": [
    "import csv\n",
    "import numpy as np\n",
    "import pandas as pd\n",
    "import os\n",
    "from subprocess import check_output"
   ]
  },
  {
   "cell_type": "code",
   "execution_count": 2,
   "metadata": {},
   "outputs": [],
   "source": [
    "infile = '../group-project/all.data.combined.csv'"
   ]
  },
  {
   "cell_type": "code",
   "execution_count": 3,
   "metadata": {},
   "outputs": [
    {
     "data": {
      "text/html": "<div>\n<style scoped>\n    .dataframe tbody tr th:only-of-type {\n        vertical-align: middle;\n    }\n\n    .dataframe tbody tr th {\n        vertical-align: top;\n    }\n\n    .dataframe thead th {\n        text-align: right;\n    }\n</style>\n<table border=\"1\" class=\"dataframe\">\n  <thead>\n    <tr style=\"text-align: right;\">\n      <th></th>\n      <th>series_id</th>\n      <th>year</th>\n      <th>period</th>\n      <th>value</th>\n      <th>footnote_codes</th>\n      <th>original_file</th>\n    </tr>\n  </thead>\n  <tbody>\n    <tr>\n      <th>0</th>\n      <td>CES5500000007</td>\n      <td>1964</td>\n      <td>M01</td>\n      <td>37.1</td>\n      <td>NaN</td>\n      <td>ce.data.55c.FinancialActivities.ProductionEmpl...</td>\n    </tr>\n    <tr>\n      <th>1</th>\n      <td>CES5500000007</td>\n      <td>1964</td>\n      <td>M02</td>\n      <td>37.3</td>\n      <td>NaN</td>\n      <td>ce.data.55c.FinancialActivities.ProductionEmpl...</td>\n    </tr>\n    <tr>\n      <th>2</th>\n      <td>CES5500000007</td>\n      <td>1964</td>\n      <td>M03</td>\n      <td>37.2</td>\n      <td>NaN</td>\n      <td>ce.data.55c.FinancialActivities.ProductionEmpl...</td>\n    </tr>\n    <tr>\n      <th>3</th>\n      <td>CES5500000007</td>\n      <td>1964</td>\n      <td>M04</td>\n      <td>37.2</td>\n      <td>NaN</td>\n      <td>ce.data.55c.FinancialActivities.ProductionEmpl...</td>\n    </tr>\n    <tr>\n      <th>4</th>\n      <td>CES5500000007</td>\n      <td>1964</td>\n      <td>M05</td>\n      <td>37.2</td>\n      <td>NaN</td>\n      <td>ce.data.55c.FinancialActivities.ProductionEmpl...</td>\n    </tr>\n  </tbody>\n</table>\n</div>",
      "text/plain": "       series_id  year period  value footnote_codes  \\\n0  CES5500000007  1964    M01   37.1            NaN   \n1  CES5500000007  1964    M02   37.3            NaN   \n2  CES5500000007  1964    M03   37.2            NaN   \n3  CES5500000007  1964    M04   37.2            NaN   \n4  CES5500000007  1964    M05   37.2            NaN   \n\n                                       original_file  \n0  ce.data.55c.FinancialActivities.ProductionEmpl...  \n1  ce.data.55c.FinancialActivities.ProductionEmpl...  \n2  ce.data.55c.FinancialActivities.ProductionEmpl...  \n3  ce.data.55c.FinancialActivities.ProductionEmpl...  \n4  ce.data.55c.FinancialActivities.ProductionEmpl...  "
     },
     "execution_count": 3,
     "metadata": {},
     "output_type": "execute_result"
    }
   ],
   "source": [
    "df = pd.read_csv(infile)\n",
    "df.head()"
   ]
  },
  {
   "cell_type": "code",
   "execution_count": null,
   "metadata": {},
   "outputs": [],
   "source": []
  },
  {
   "cell_type": "code",
   "execution_count": null,
   "metadata": {},
   "outputs": [],
   "source": []
  }
 ],
 "metadata": {
  "kernelspec": {
   "display_name": "Python 3",
   "language": "python",
   "name": "python3"
  },
  "language_info": {
   "codemirror_mode": {
    "name": "ipython",
    "version": 3
   },
   "file_extension": ".py",
   "mimetype": "text/x-python",
   "name": "python",
   "nbconvert_exporter": "python",
   "pygments_lexer": "ipython3",
   "version": "3.7.4-final"
  }
 },
 "nbformat": 4,
 "nbformat_minor": 2
}